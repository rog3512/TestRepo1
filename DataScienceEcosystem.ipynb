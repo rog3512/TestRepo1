{
 "cells": [
  {
   "cell_type": "markdown",
   "id": "12a583c2-e991-4ae8-a000-1f5749a84af3",
   "metadata": {},
   "source": [
    "# **Data Science Tools and Ecosystem**\n"
   ]
  },
  {
   "cell_type": "markdown",
   "id": "7a14d309-ffaa-407e-a465-bcb95c3e2164",
   "metadata": {},
   "source": [
    "# In this notebook, Data Science Tools and Ecosystem are summarized."
   ]
  },
  {
   "cell_type": "markdown",
   "id": "24f47d0b-52b6-48c3-95a0-528f2d824137",
   "metadata": {},
   "source": [
    "**Objetives of this notebook**\n",
    "- Demonstrate what i have learned in the course\n",
    "- Practice what I've learned\n",
    "- Make a list about languajes, libraries and tools that Data Scientists use\n"
   ]
  },
  {
   "cell_type": "markdown",
   "id": "f83fd67f-af90-4f7f-8bde-cd6158f05d93",
   "metadata": {},
   "source": [
    "Some of the popular languajes that Data Scientists use are:\n",
    "1. Python\n",
    "2. Java\n",
    "3. R\n",
    " "
   ]
  },
  {
   "cell_type": "markdown",
   "id": "5d802ff9-e508-4378-b6dd-cf9c6607a2fc",
   "metadata": {},
   "source": [
    "Some of the commonly used libraries used by Data Scientists include:\n",
    "1. Pandas\n",
    "2. NumPy\n",
    "3. TensorFlow"
   ]
  },
  {
   "cell_type": "markdown",
   "id": "62ae3609-9836-49de-bfcf-529fac2eca51",
   "metadata": {},
   "source": [
    "| Data Science Tools|\n",
    "| ------ | \n",
    "| Anaconda| \n",
    "| TensorFlow| \n",
    "| Keras| "
   ]
  },
  {
   "cell_type": "markdown",
   "id": "c25d301b-01c6-45ad-825c-cb8bcdd29176",
   "metadata": {},
   "source": [
    "### Below are a few examples of evaluating arithmetic expressions in Python"
   ]
  },
  {
   "cell_type": "code",
   "execution_count": 44,
   "id": "ae236403-0087-4527-b293-09580b5e0949",
   "metadata": {
    "scrolled": true
   },
   "outputs": [
    {
     "name": "stdout",
     "output_type": "stream",
     "text": [
      " This a simple arithmetic expression to mutiply then add integers\n"
     ]
    },
    {
     "data": {
      "text/plain": [
       "17"
      ]
     },
     "execution_count": 44,
     "metadata": {},
     "output_type": "execute_result"
    }
   ],
   "source": [
    "print(\" This a simple arithmetic expression to mutiply then add integers\")\n",
    "(3*4)+5"
   ]
  },
  {
   "cell_type": "code",
   "execution_count": 48,
   "id": "d128c3af-63b9-410a-b03a-067fb1ed0c1a",
   "metadata": {},
   "outputs": [
    {
     "name": "stdin",
     "output_type": "stream",
     "text": [
      "Input time in minutes: 200\n"
     ]
    },
    {
     "name": "stdout",
     "output_type": "stream",
     "text": [
      "It´s 20 hours and 3 minutes.\n"
     ]
    }
   ],
   "source": [
    "time = float(input(\"Input time in minutes:\"))\n",
    "hour = time%60\n",
    "minutes= (time//60)\n",
    "print(\"It´s\",int(hour),\"hours and\", int(minutes),\"minutes.\")"
   ]
  },
  {
   "cell_type": "code",
   "execution_count": 46,
   "id": "f2781217-671d-452c-bcdd-7f9717d2ef49",
   "metadata": {
    "scrolled": true
   },
   "outputs": [
    {
     "name": "stdout",
     "output_type": "stream",
     "text": [
      "It´s 20 hours\n"
     ]
    }
   ],
   "source": [
    "#This will convert 200 minutes to hours by diving by 60\n",
    "hour = 200%60\n",
    "print(\"It´s\",int(hour), \"hours\")\n"
   ]
  },
  {
   "cell_type": "markdown",
   "id": "ae6feb6f-2738-4633-9a0c-4310a89e9703",
   "metadata": {},
   "source": [
    "## Author: Rogelio Ramirez"
   ]
  },
  {
   "cell_type": "code",
   "execution_count": null,
   "id": "c940e520-516e-4d36-a1f8-bc02793d0bcf",
   "metadata": {},
   "outputs": [],
   "source": []
  }
 ],
 "metadata": {
  "kernelspec": {
   "display_name": "Python [conda env:base] *",
   "language": "python",
   "name": "conda-base-py"
  },
  "language_info": {
   "codemirror_mode": {
    "name": "ipython",
    "version": 3
   },
   "file_extension": ".py",
   "mimetype": "text/x-python",
   "name": "python",
   "nbconvert_exporter": "python",
   "pygments_lexer": "ipython3",
   "version": "3.12.7"
  }
 },
 "nbformat": 4,
 "nbformat_minor": 5
}
